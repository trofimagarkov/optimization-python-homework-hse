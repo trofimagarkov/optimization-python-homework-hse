{
 "cells": [
  {
   "cell_type": "markdown",
   "metadata": {},
   "source": [
    " **Вариант 2**"
   ]
  },
  {
   "cell_type": "markdown",
   "metadata": {},
   "source": [
    "Название команды: Шеол\n",
    "\n",
    "Состав команды:\n",
    "\n",
    "1. Вергилий (197)\n",
    "\n",
    "2. Данте (197)\n",
    "\n",
    "3. Беатриче (195)"
   ]
  },
  {
   "cell_type": "markdown",
   "metadata": {},
   "source": [
    "**Задача 0** $~~~~$($\\texttt{0 points}$)"
   ]
  },
  {
   "cell_type": "markdown",
   "metadata": {},
   "source": [
    "Общие издержки фирмы равны 670. Постоянные издержки равны 0. Она произвела 14 единиц продукции. Найдите средние издержки фирмы."
   ]
  },
  {
   "cell_type": "code",
   "execution_count": 1,
   "metadata": {},
   "outputs": [
    {
     "name": "stdout",
     "output_type": "stream",
     "text": [
      "Средние издержки равны 47.857\n"
     ]
    }
   ],
   "source": [
    "TC = 670\n",
    "n = 14\n",
    "AC = round(TC/n, 3)\n",
    "print('Средние издержки равны', AC)"
   ]
  },
  {
   "cell_type": "markdown",
   "metadata": {},
   "source": [
    "**Задача 1** $~~~~$($\\texttt{2 points}$)"
   ]
  },
  {
   "cell_type": "markdown",
   "metadata": {},
   "source": [
    "Господин Леонтий Дугласс-Кобб дисконтирует свою полезность, с параметром $\\delta$, таким что $\\displaystyle\\delta^*=\\underset{\\delta}{argmax} F(\\delta)$\n",
    "\n",
    "$\\displaystyle F(\\delta) = \\frac{\\left(\\delta-0.45\\right)}{\\left(\\delta^{2}+0.001\\right)}+0.3, ~~ \\delta\\in [0, 1]$\n",
    "\n",
    "Определите величину параметра $\\delta$. $~~~~$($\\texttt{1.4 points}$)"
   ]
  },
  {
   "cell_type": "code",
   "execution_count": 2,
   "metadata": {},
   "outputs": [],
   "source": [
    "# delta parameter estimation here"
   ]
  },
  {
   "cell_type": "markdown",
   "metadata": {},
   "source": [
    "Постройте график кривой $F(\\delta)$ на промежутке $[0, 1]$, отметьте точку максимума. $~~~~$($\\texttt{0.6 points}$)"
   ]
  },
  {
   "cell_type": "code",
   "execution_count": 3,
   "metadata": {},
   "outputs": [],
   "source": [
    "import matplotlib.pyplot as plt # recommended, but you may use other packages\n",
    "# your code here"
   ]
  },
  {
   "cell_type": "markdown",
   "metadata": {},
   "source": [
    "**Задача 2** $~~~~$($\\texttt{4.5 points}$)"
   ]
  },
  {
   "cell_type": "markdown",
   "metadata": {},
   "source": [
    "Леонтий Дугласс-Кобб размышляет о покупке обеда. Ему доступно два вида товара: котлетки и пюрешка. Два года он записывал объем потребленных им котлет и пюре, а также оценивал полезность полученную от их потребления в соответствии с функцией полезности, известной только ему. Восстановите функцию полезности Леонтьева-Думмкопфа по данным из файла utility_data. $\\textit{Убедительно}$ покажите, как вы это сделали. $~~$($\\texttt{0.8 points}$)"
   ]
  },
  {
   "cell_type": "code",
   "execution_count": 4,
   "metadata": {},
   "outputs": [],
   "source": [
    "# utility funtion revelation here"
   ]
  },
  {
   "cell_type": "markdown",
   "metadata": {},
   "source": [
    "**Впишите получившуюся функцию полезности сюда, например $U(x, y)=x+y$** $~~~~$($\\texttt{0.2 points}$)"
   ]
  },
  {
   "cell_type": "markdown",
   "metadata": {},
   "source": [
    "Леонтий решил не нарушать традиций и максимизирует свою полезность, выбирая себе обед. Одолжив пятьсот рублей у друга и спрятав от жены еще тысячу, г-н Дугласс-Кобб располагает 1500 рублями. Цена котлеты равна $10\\cdot Variation($'Number of cutlets'$)$ за штуку, цена пюре равна $10\\cdot Mean($'Puree, kg'$)$ за килограмм.\n",
    "\n",
    "Сколько пюре и котлет купит Леонтий сегодня? Цены продуктов расчитайте в соответствии с формулами, указанными выше. В качестве функции полезности используйте функцию, полученную вами в предыдущем пункте. \n",
    "\n",
    "($\\texttt{2.1 points}$)"
   ]
  },
  {
   "cell_type": "markdown",
   "metadata": {},
   "source": [
    "**Впишите математическую формулировку задачи оптимизации здесь, убедитесь, что вы описали характер задачи, функцию цели и функции ограничений.** $~~~~$($\\texttt{0.4 points}$)"
   ]
  },
  {
   "cell_type": "code",
   "execution_count": 5,
   "metadata": {},
   "outputs": [],
   "source": [
    "# your solution of the problem here"
   ]
  },
  {
   "cell_type": "markdown",
   "metadata": {},
   "source": [
    "Какую полезность получит Леонтий, пообедав?$~~~~$($\\texttt{0.4 points}$)"
   ]
  },
  {
   "cell_type": "code",
   "execution_count": 6,
   "metadata": {},
   "outputs": [],
   "source": [
    "# put your code here"
   ]
  },
  {
   "cell_type": "markdown",
   "metadata": {},
   "source": [
    "Представьте, что Леонтий в течение года выбирает такой же набор товаров, какой он выбрал в задаче выше. Посчитайте полезность, полученную им от обедов в этом году, то есть посчитайте $\\displaystyle U(x, y) = \\sum^{365}_{t=0} u_t(x, y)\\cdot\\delta^t$. Параметр $\\delta$ возьмите из первой задачи. $~~~~$($\\texttt{0.6 points}$)"
   ]
  },
  {
   "cell_type": "code",
   "execution_count": 7,
   "metadata": {},
   "outputs": [],
   "source": [
    "# put your code here"
   ]
  },
  {
   "cell_type": "markdown",
   "metadata": {},
   "source": [
    "**Задача 3** $~~~~$($\\texttt{4.5 points}$)"
   ]
  },
  {
   "cell_type": "markdown",
   "metadata": {},
   "source": [
    "Компания производит два вида сувениров из фанеры.\n",
    "Сувениры типа А требуют $\\eta$ минут на нарезку и $2.5\\eta$ минут на сборку.\n",
    "Сувениры типа Б требуют $1.5\\eta$ минут на нарезку и $2\\eta$ минут на сборку. \n",
    "Значение параметра $\\eta$ зависит от средней зарплаты работников выплаченной в начале месяца. В eta_wage_data вы найдете наблюдения о средней выплаченной в начале месяца заработной плате и оценке параметра $\\eta$. Постройте оценку ожидаемого среднего параметра $\\eta$ в зависимости от средней выплаченной заработной платы с помощью парной линейной регрессии. В качестве ответа выведите уравнение регрессии с оцененными параметрами $\\alpha$ и $\\beta$ в виде $\\eta = \\alpha + \\beta\\cdot \\textit{average_wage}$. $~~~~$($\\texttt{1 points}$)"
   ]
  },
  {
   "cell_type": "code",
   "execution_count": 8,
   "metadata": {},
   "outputs": [],
   "source": [
    "from sklearn.linear_model import LinearRegression # recommended, but you may use other packages\n",
    "# your alpha and beta estimation here"
   ]
  },
  {
   "cell_type": "markdown",
   "metadata": {},
   "source": [
    "Постройте диаграмму рассеяния (scatterplot) с наблюдениями из файла eta_wage_data и уравнение полученной линейной регрессии на одном графике. $~~~~$($\\texttt{0.7 points}$)"
   ]
  },
  {
   "cell_type": "code",
   "execution_count": 9,
   "metadata": {},
   "outputs": [],
   "source": [
    "import matplotlib.pyplot as plt # recommended, but you may use other packages\n",
    "# your code here"
   ]
  },
  {
   "cell_type": "markdown",
   "metadata": {},
   "source": [
    "Известно, что в этом месяце средняя выплаченная заработная плата составила 2000 USD. Предскажите значение параметра $\\eta$. $~~~~$($\\texttt{0.3 points}$)"
   ]
  },
  {
   "cell_type": "code",
   "execution_count": 10,
   "metadata": {},
   "outputs": [],
   "source": [
    "# your eta prediction here"
   ]
  },
  {
   "cell_type": "markdown",
   "metadata": {},
   "source": [
    "WARNING! Если вы справились с предсказанием праметра $\\eta$, используйте его для дальнейшего решения, иначе возьмите $\\eta = 2$.\n",
    "\n",
    "На нарезку доступно 7 часов 40 минут, для сборки $-$ 8 часов. Прибыль составляет 5 USD с каждого сувенира типа A и 6 USD с типа B.\n",
    "Сколько сувениров каждого вида должно изготовить предприятие\n",
    "чтобы максимизировать прибыль? $~~~~$($\\texttt{2 points}$)"
   ]
  },
  {
   "cell_type": "markdown",
   "metadata": {},
   "source": [
    "**Впишите математическую формулировку задачи оптимизации здесь, убедитесь, что вы описали характер задачи, функцию цели и функции ограничений.** \n",
    "$~$($\\texttt{0.3 points}$)"
   ]
  },
  {
   "cell_type": "code",
   "execution_count": 11,
   "metadata": {},
   "outputs": [],
   "source": [
    "# your code here"
   ]
  },
  {
   "cell_type": "markdown",
   "metadata": {},
   "source": [
    "Какую прибыль получит компания? $~~~~$($\\texttt{0.2 points}$)"
   ]
  },
  {
   "cell_type": "code",
   "execution_count": 12,
   "metadata": {},
   "outputs": [],
   "source": [
    "# your code here"
   ]
  },
  {
   "cell_type": "markdown",
   "metadata": {},
   "source": [
    "**Задача 4** $~~~~$($\\texttt{2 points}$)"
   ]
  },
  {
   "cell_type": "markdown",
   "metadata": {},
   "source": [
    "Решите задачу условной оптимизации. $~~~~$($\\texttt{1.85 points}$)\n",
    "\n",
    "$max ~~ \\displaystyle x^{34-\\beta} y^{\\beta} ~~ $ s.t. $ ~~  \\displaystyle(x^2+y^2)^2=2c^2(x^2-y^2), x\\geq0, y\\geq0$\n",
    "\n",
    "$c$ $-$ номер первой буквы имени капитана команды по алфавиту.\n",
    "\n",
    "$\\beta$ $-$ номер первой буквы фамилии капитана команды по алфавиту."
   ]
  },
  {
   "cell_type": "code",
   "execution_count": 13,
   "metadata": {},
   "outputs": [],
   "source": [
    "# your code here"
   ]
  },
  {
   "cell_type": "markdown",
   "metadata": {},
   "source": [
    "Как называется кривая ограничений? $~~~~$($\\texttt{0.15 points}$)"
   ]
  },
  {
   "cell_type": "markdown",
   "metadata": {},
   "source": [
    "**Впишите ответ здесь**"
   ]
  }
 ],
 "metadata": {
  "kernelspec": {
   "display_name": "Python 3",
   "language": "python",
   "name": "python3"
  },
  "language_info": {
   "codemirror_mode": {
    "name": "ipython",
    "version": 3
   },
   "file_extension": ".py",
   "mimetype": "text/x-python",
   "name": "python",
   "nbconvert_exporter": "python",
   "pygments_lexer": "ipython3",
   "version": "3.8.3"
  }
 },
 "nbformat": 4,
 "nbformat_minor": 4
}
