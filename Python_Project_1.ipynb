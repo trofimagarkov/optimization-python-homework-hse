{
 "cells": [
  {
   "cell_type": "markdown",
   "metadata": {},
   "source": [
    "**Вариант 1**\n"
   ]
  },
  {
   "cell_type": "markdown",
   "metadata": {},
   "source": [
    "Название команды: Свита Воланда\n",
    "\n",
    "Состав команды:\n",
    "\n",
    "1. Фагот-Коровьев (191)\n",
    "\n",
    "2. Азазелло (193)\n",
    "\n",
    "3. Кот Бегемот (193)"
   ]
  },
  {
   "cell_type": "markdown",
   "metadata": {},
   "source": [
    "**Задача 0**\n",
    "$~~~~$($\\texttt{0 points}$)"
   ]
  },
  {
   "cell_type": "markdown",
   "metadata": {},
   "source": [
    "Общие издержки фирмы равны 420. Постоянные издержки равны 0. Она произвела 9 единиц продукции. Найдите средние издержки фирмы."
   ]
  },
  {
   "cell_type": "code",
   "execution_count": 1,
   "metadata": {},
   "outputs": [
    {
     "name": "stdout",
     "output_type": "stream",
     "text": [
      "Средние издержки равны 46.667\n"
     ]
    }
   ],
   "source": [
    "TC = 420\n",
    "n = 9\n",
    "AC = round(TC/n, 3)\n",
    "print('Средние издержки равны', AC)"
   ]
  },
  {
   "cell_type": "markdown",
   "metadata": {},
   "source": [
    "**Задача 1 (Оптимизация функции одной переменной)**\n",
    "$~~~~$($\\texttt{2 points}$)"
   ]
  },
  {
   "cell_type": "markdown",
   "metadata": {},
   "source": [
    "Министерство экономики спрогнозировало, что сборы в бюджет зависят от ставки налога на прибыль следующим образом:\n",
    "\n",
    "$\\displaystyle S(T) = exp\\left(-\\frac{(T-0.32)^2}{0.1}\\right)T\\sqrt T, ~~ T\\in [0, 1]$\n",
    "\n",
    "Известно, что правительство планирует максимизировать налоговые сборы. Определите величину ставки налога на прибыль предприятий. \n",
    "\n",
    "($\\texttt{1.3 points}$)"
   ]
  },
  {
   "cell_type": "code",
   "execution_count": 2,
   "metadata": {},
   "outputs": [],
   "source": [
    "# tax rate estimation here"
   ]
  },
  {
   "cell_type": "markdown",
   "metadata": {},
   "source": [
    " Как называется кривая S(T)? $~~~~$($\\texttt{0.2 points}$)"
   ]
  },
  {
   "cell_type": "markdown",
   "metadata": {},
   "source": [
    "**Ответ здесь**"
   ]
  },
  {
   "cell_type": "markdown",
   "metadata": {},
   "source": [
    "Постройте график кривой $S(T)$ на промежутке $[0, 1]$, отметьте точку максимума. $~~~~$($\\texttt{0.5 points}$)"
   ]
  },
  {
   "cell_type": "code",
   "execution_count": 3,
   "metadata": {},
   "outputs": [],
   "source": [
    "import matplotlib.pyplot as plt # recommended, but you may use other packages\n",
    "# your code here"
   ]
  },
  {
   "cell_type": "markdown",
   "metadata": {},
   "source": [
    "**Задача 2 (Очень интересное программирование)** $~~~~$($\\texttt{4.5 points}$)"
   ]
  },
  {
   "cell_type": "markdown",
   "metadata": {},
   "source": [
    "Предприниматель Кобб Леонтьевич Дугласов планирует открыть сеть столярных мастерских для производства мебели. На это его вдохновил друг и выпускник МГУ, уже заработавший на этом бизнесе свой первый миллион. У него наш герой позаимствовал данные о том, сколько единиц мебели производит столярная мастерская за одну смену в зависимости от используемых ресурсов -- труда и массива дерева. Восстановите производственную функцию мастерской (подсказка: с постоянной отдачей от масштаба) по данным из файла production_data. $\\textit{Убедительно}$ покажите, как вы это сделали. $~~~~$($\\texttt{1 points}$)"
   ]
  },
  {
   "cell_type": "code",
   "execution_count": 4,
   "metadata": {},
   "outputs": [],
   "source": [
    "# production funtion revelation here"
   ]
  },
  {
   "cell_type": "markdown",
   "metadata": {},
   "source": [
    "**Впишите вид получившейся производственной функции сюда, например $Q(K, L)=K\\cdot L$** $~~~~$($\\texttt{0.3 points}$)"
   ]
  },
  {
   "cell_type": "markdown",
   "metadata": {},
   "source": [
    "В Новый Год, 31 декабря, Кобб скачал с компьютера друга файл furniture_price_data c данными о средней цене единицы мебели за каждый день прошедшего года. Придя домой и обсудив это с родителями, Кобб решил прислушаться к совету мамы взять среднее выборочное цены как прогноз на следующий год. $~~~~$($\\texttt{0.2 points}$)"
   ]
  },
  {
   "cell_type": "code",
   "execution_count": 5,
   "metadata": {},
   "outputs": [],
   "source": [
    "# mean estimation here"
   ]
  },
  {
   "cell_type": "markdown",
   "metadata": {},
   "source": [
    "В первую очередь, решил Кобб, нужно произвести как можно больше мебели в этом году. Разбив дома копилку и сняв со счета в банке все деньги, Кобб выяснил, что его бюджет на первый год ограничен 1,000,000 USD. Стоимость единицы труда на мебельном рынке фиксирована и равна 150 USD\\смена. Кубометр массива дерева из которого производят мебель стоит 300 USD. Известно, что Кобб планирует открыть 5 мастерских, которые будут работать ежедневно.\n",
    "\n",
    "Сколько рабочих наймет Кобб по контракту на один год работы и сколько кубометров древесины закупит за этот период?  $~~~~$($\\texttt{2.2 points}$)"
   ]
  },
  {
   "cell_type": "markdown",
   "metadata": {},
   "source": [
    "**Впишите математическую формулировку задачи оптимизации здесь, убедитесь, что вы описали характер задачи, функцию цели и функции ограничений.** $~~~~$($\\texttt{0.4 points}$)"
   ]
  },
  {
   "cell_type": "code",
   "execution_count": 6,
   "metadata": {},
   "outputs": [],
   "source": [
    "# your solution of the problem here"
   ]
  },
  {
   "cell_type": "markdown",
   "metadata": {},
   "source": [
    "Какую прибыль получит Кобб за год работы на руки после вычета налога, установленного правительством? В качестве налога используйте ставку, полученную в первом задании. В качестве оценки стоимости единицы мебели используйте среднюю цену мебели, посчитанную выше. ($\\texttt{0.4 points}$)"
   ]
  },
  {
   "cell_type": "code",
   "execution_count": 7,
   "metadata": {},
   "outputs": [],
   "source": [
    "# put your code here"
   ]
  },
  {
   "cell_type": "markdown",
   "metadata": {},
   "source": [
    "**Задача 3 (Линейное программирование)**\n",
    "$~~~~$($\\texttt{4.5 points}$)"
   ]
  },
  {
   "cell_type": "markdown",
   "metadata": {},
   "source": [
    "Предпрениматель производит гайки и болты. Для производства коробки гаек требуется $\\textit{z}$ часов работы на машине A и $\\textit{2z}$ часов на машине B. Для изготовления коробки болтов требуется $\\textit{2z}$ часов работы на машине A и $\\textit{z}$ часов на машине B. Параметр $\\textit{z} $ зависит от того, сколько калорий производитель потребляет в день. В calories_prod_data вы найдете наблюдения о съеденных за день калориях и ежедневной оценке параметра $\\textit{z}$. Постройте оценку ожидаемого среднего параметра $\\textit{z}$ в зависимости от количества съеденных за день калорий с помощью линейной регрессии. В качестве ответа выведите уравнение регрессии с оцененными параметрами $\\alpha$ и $\\beta$ в виде $\\textit{z} = \\alpha + \\beta\\cdot \\textit{calories_per_day}$. $~~~~$($\\texttt{1 points}$)\n"
   ]
  },
  {
   "cell_type": "code",
   "execution_count": 8,
   "metadata": {},
   "outputs": [],
   "source": [
    "from sklearn.linear_model import LinearRegression # recommended, but you may use other packages\n",
    "# your alpha and beta estimation here"
   ]
  },
  {
   "cell_type": "markdown",
   "metadata": {},
   "source": [
    "Постройте scatterplot с наблюдениями из файла calories_prod_data и уравнение полученной линейной регрессии на одном графике.\n",
    "\n",
    "($\\texttt{0.7 points}$)"
   ]
  },
  {
   "cell_type": "code",
   "execution_count": 9,
   "metadata": {},
   "outputs": [],
   "source": [
    "import matplotlib.pyplot as plt # recommended, but you may use other packages\n",
    "# your code here"
   ]
  },
  {
   "cell_type": "markdown",
   "metadata": {},
   "source": [
    "Известно, что в этом месяце предприниматель придерживается диеты и потребляет 2300 калорий в день. Предскажите значение параметра $\\textit{z}$. \n",
    "\n",
    "($\\texttt{0.3 points}$)"
   ]
  },
  {
   "cell_type": "code",
   "execution_count": 10,
   "metadata": {},
   "outputs": [],
   "source": [
    "# your z prediction here"
   ]
  },
  {
   "cell_type": "markdown",
   "metadata": {},
   "source": [
    "WARNING! Если вы справились с предсказанием праметра $\\textit{z}$, используйте его для дальнейшего решения, иначе возьмите $\\textit{z} = 2$.\n",
    "\n",
    "Он получает прибыль в размере 17.50 долларов США за упаковку гаек и 7.00 долларов США за упаковку болтов. Сколько упаковок каждого товара должно производиться каждый день, чтобы максимизировать прибыль, если каждая машина может работать не более 18 часов в день? (Машины могут работать одновременно.) $~~~~$($\\texttt{1.9 points}$)"
   ]
  },
  {
   "cell_type": "markdown",
   "metadata": {},
   "source": [
    "**Впишите математическую формулировку задачи оптимизации здесь, убедитесь, что вы описали характер задачи, функцию цели и функции ограничений.**\n",
    "($\\texttt{0.4 points}$)"
   ]
  },
  {
   "cell_type": "code",
   "execution_count": 11,
   "metadata": {},
   "outputs": [],
   "source": [
    "# your code here"
   ]
  },
  {
   "cell_type": "markdown",
   "metadata": {},
   "source": [
    "Какую прибыль он получит? $~~~~$($\\texttt{0.2 points}$)"
   ]
  },
  {
   "cell_type": "code",
   "execution_count": 12,
   "metadata": {},
   "outputs": [],
   "source": [
    "# your code here"
   ]
  },
  {
   "cell_type": "markdown",
   "metadata": {},
   "source": [
    "**Задача 4 (Условная оптимизация)**\n",
    "$~~~~$($\\texttt{2 points}$)"
   ]
  },
  {
   "cell_type": "markdown",
   "metadata": {},
   "source": [
    "Решите задачу условной оптимизации.\n",
    "\n",
    "$max ~~ \\displaystyle x^\\gamma y^{34-\\gamma} ~~ $ s.t. $ ~~  \\displaystyle\\frac{x}{a^2}+\\displaystyle\\frac{y}{b^2}=1, x\\geq0, y\\geq0$\n",
    "\n",
    "$\\gamma$ $-$ номер первой буквы имени капитана команды по алфавиту.\n",
    "\n",
    "$a$ $-$ последняя цифра номера группы капитана команды.\n",
    "\n",
    "$b$ $-$ номер первой буквы фамилии капитана команды по алфавиту."
   ]
  },
  {
   "cell_type": "code",
   "execution_count": 13,
   "metadata": {},
   "outputs": [],
   "source": [
    "# your code here"
   ]
  }
 ],
 "metadata": {
  "kernelspec": {
   "display_name": "Python 3",
   "language": "python",
   "name": "python3"
  },
  "language_info": {
   "codemirror_mode": {
    "name": "ipython",
    "version": 3
   },
   "file_extension": ".py",
   "mimetype": "text/x-python",
   "name": "python",
   "nbconvert_exporter": "python",
   "pygments_lexer": "ipython3",
   "version": "3.8.3"
  }
 },
 "nbformat": 4,
 "nbformat_minor": 4
}
